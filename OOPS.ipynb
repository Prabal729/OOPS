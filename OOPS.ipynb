{
  "nbformat": 4,
  "nbformat_minor": 0,
  "metadata": {
    "colab": {
      "provenance": []
    },
    "kernelspec": {
      "name": "python3",
      "display_name": "Python 3"
    },
    "language_info": {
      "name": "python"
    }
  },
  "cells": [
    {
      "cell_type": "markdown",
      "source": [
        "### **OOPS Assignment**\n",
        "1. What is Object-Oriented Programming (OOP) ?\n",
        "-> OOP is a programming style using \"objects\" (data and methods) for organized, reusable code. Key principles: Encapsulation, Abstraction, Inheritance, Polymorphism.\n",
        "2. What is a class in OOP ?\n",
        "-> Class are blue print/template to create an object.\n",
        "3. What is an object in OOP?\n",
        "->  object is a realtime entity which has its own state and behavior.\n",
        "4. What is the difference between abstraction and encapsulation?\n",
        "-> Abstraction is hideing complexity, showing only essential features to user and Encapsulation is bundles data and methods, restricting direct access from end user.\n",
        "5. What are dunder methods in Python ?\n",
        "-> Dunder method is special type of method in python. If we disect the name dunder d under means double under score. like __init__,__del__ etc.\n",
        "6. Explain the concept of inheritance in OOP ?\n",
        "-> When one class is inheriting the property from another class is called as inheritance.\n",
        "7. What is polymorphism in OOP ?\n",
        "-> When one object shows different behaviour in its entire lifespand is called as polymorphism.\n",
        "8. How is encapsulation achieved in Python ?\n",
        "-> Naming conventions: Using single (_) or double (__) underscores to indicate private or protected attributes/methods.\n",
        "  Property decorators: Using @property, @<property_name>.setter, and @<property_name>.deleter to control attribute access and modification.\n",
        "  Classes: Bundling data (attributes) and methods that operate on that data within a class\n",
        "9. What is a constructor in Python ?\n",
        "-> In Python, a constructor is a special method called __init__. It's automatically executed when an object of a class is created. Its purpose is to initialize the object's attributes (data).\n",
        "10. What are class and static methods in Python ?\n",
        "-> Python offers class and static methods to enhance class functionality. Class methods, marked with @classmethod, receive the class itself as the first argument, enabling them to modify class-level attributes and perform operations relevant to the class. Static methods, denoted by @staticmethod, function like regular functions within a class, receiving no implicit arguments and unable to access class or instance state; they serve as utility functions logically associated with the class.\n",
        "11. What is method overloading in Python ?\n",
        "-> Developing multiple method is a same class is called as method overloading.\n",
        "12. What is method overriding in OOP ?\n",
        "-> Redefing methods of parent class in child class is called as method overriding.\n",
        "13. What is a property decorator in Python ?\n",
        "-> Property decorators allows method to be accessed as attribute.\n",
        "14. Why is polymorphism important in OOP ?\n",
        "-> Polymorphism is important because by using this concept we can use one object in different purpose.\n",
        "15. What is an abstract class in Python ?\n",
        "-> In python an abstract class is a class that cannot be instantiated directly. It serves as a blueprint for other classes, defining a common interface.\n",
        "16. What are the advantages of OOP ?\n",
        "-> The main advantage of OOP is the reusability of code.\n",
        "17. What is the difference between a class variable and an instance variable?\n",
        "-> Instance variables: Unique to each object, store object-specific data.\n",
        "Class variables: Shared by all objects of a class, store class-wide data.\n",
        "18. What is multiple inheritance in Python ?\n",
        "-> When one sub class is inherating property from two super classes is called as multiple inheritance.\n",
        "19. Explain the purpose of ‘’__str__’ and ‘__repr__’ ‘ methods in Python ?\n",
        "-> __str__ is human-readable, for users, used by str() and print() and __repr__ developer-friendly, for debugging, used by repr().\n",
        "20. What is the significance of the ‘super()’ function in Python ?\n",
        "-> super() calls methods from a parent class, enabling inheritance and method overriding.\n",
        "21. What is the significance of the __del__ method in Python ?\n",
        "-> __del__ called when an object is about to be destroyed (garbage collected). Used for cleanup.\n",
        "22. What is the difference between @staticmethod and @classmethod in Python ?\n",
        "-> @staticmethod is for functions that don't need to know anything about the class and @classmethod is for functions that need to know about the class, but not necessarily about specific instances of it.\n",
        "23. How does polymorphism work in Python with inheritance ?\n",
        "-> Subclasses can override parent methods, allowing objects of different classes to respond differently to the same method call.\n",
        "24. What is method chaining in Python OOP ?\n",
        "-> Calling multiple methods sequentially on the same object, where each method returns the object itself.\n",
        "25. What is the purpose of the __call__ method in Python?\n",
        "-> Allows an object to be called like a function."
      ],
      "metadata": {
        "id": "ZE6ED7gCaD6d"
      }
    },
    {
      "cell_type": "code",
      "execution_count": null,
      "metadata": {
        "id": "K_haoDZWZ9Yu"
      },
      "outputs": [],
      "source": []
    },
    {
      "cell_type": "markdown",
      "source": [
        "1.  Create a parent class Animal with a method speak() that prints a generic message. Create a child class Dog\n",
        "that overrides the speak() method to print \"Bark!\"."
      ],
      "metadata": {
        "id": "0Mz66JG8Haza"
      }
    },
    {
      "cell_type": "code",
      "source": [
        "class Animal:\n",
        "  def speak(self):\n",
        "    print(\"ok\")\n",
        "class Dog(Animal):\n",
        "  def speak(self):\n",
        "    print(\"bark\")"
      ],
      "metadata": {
        "id": "b4uLA1zuHhtU"
      },
      "execution_count": null,
      "outputs": []
    },
    {
      "cell_type": "code",
      "source": [
        "d=Dog()\n",
        "d.speak()"
      ],
      "metadata": {
        "colab": {
          "base_uri": "https://localhost:8080/"
        },
        "id": "Peq4aZICH_ar",
        "outputId": "81b27f4a-82fd-4250-9b44-562a42e6be33"
      },
      "execution_count": null,
      "outputs": [
        {
          "output_type": "stream",
          "name": "stdout",
          "text": [
            "bark\n"
          ]
        }
      ]
    },
    {
      "cell_type": "markdown",
      "source": [
        "2. Write a program to create an abstract class Shape with a method area(). Derive classes Circle and Rectangle\n",
        "from it and implement the area() method in both."
      ],
      "metadata": {
        "id": "aVp-cK8GIdmk"
      }
    },
    {
      "cell_type": "code",
      "source": [
        "from abc import ABC, abstractmethod\n",
        "import math\n",
        "\n",
        "class Shape(ABC):\n",
        "    @abstractmethod\n",
        "    def area(self):\n",
        "        pass\n",
        "\n",
        "class Circle(Shape):\n",
        "    def __init__(self, radius):\n",
        "        self.radius = radius\n",
        "\n",
        "    def area(self):\n",
        "        return math.pi * self.radius**2\n",
        "\n",
        "class Rectangle(Shape):\n",
        "    def __init__(self, width, height):\n",
        "        self.width = width\n",
        "        self.height = height\n",
        "\n",
        "    def area(self):\n",
        "        return self.width * self.height\n",
        "\n",
        "# Example usage\n",
        "circle = Circle(5)\n",
        "print(\"Circle area:\", circle.area())\n",
        "\n",
        "rectangle = Rectangle(4, 6)\n",
        "print(\"Rectangle area:\", rectangle.area())"
      ],
      "metadata": {
        "colab": {
          "base_uri": "https://localhost:8080/"
        },
        "id": "vR_2pkpxH1-e",
        "outputId": "f525b216-8003-42d8-848f-4aa222214906"
      },
      "execution_count": 34,
      "outputs": [
        {
          "output_type": "stream",
          "name": "stdout",
          "text": [
            "Circle area: 78.53981633974483\n",
            "Rectangle area: 24\n"
          ]
        }
      ]
    },
    {
      "cell_type": "markdown",
      "source": [
        "3. Implement a multi-level inheritance scenario where a class Vehicle has an attribute type. Derive a class Car\n",
        "and further derive a class ElectricCar that adds a battery attribute."
      ],
      "metadata": {
        "id": "hjEHbFHVfoJE"
      }
    },
    {
      "cell_type": "code",
      "source": [
        "class Vehicle:\n",
        "  def __init__(self,type):\n",
        "    self.type=type\n",
        "class Car(Vehicle):\n",
        "  def __init__(self,type,color):\n",
        "    super().__init__(type)\n",
        "    self.color=color\n",
        "class ElectricCar(Car):\n",
        "  def __init__(self,type,color,battery):\n",
        "    super().__init__(type,color)"
      ],
      "metadata": {
        "id": "6A5wVYibfo-k"
      },
      "execution_count": null,
      "outputs": []
    },
    {
      "cell_type": "markdown",
      "source": [
        " 4. Demonstrate polymorphism by creating a base class Bird with a method fly(). Create two derived classes\n",
        "Sparrow and Penguin that override the fly() method.\n",
        "\n",
        "---\n",
        "\n"
      ],
      "metadata": {
        "id": "0Jj5VKzigZwe"
      }
    },
    {
      "cell_type": "code",
      "source": [
        "class Bird:\n",
        "  def fly(self):\n",
        "    print(\"ok\")\n",
        "class Sparrow(Bird):\n",
        "  def fly(self):\n",
        "    print(\"ok1\")\n",
        "class Penguin(Bird):\n",
        "  def fly(self):\n",
        "    print(\"ok2\")"
      ],
      "metadata": {
        "id": "x8nrq4FKgRYG"
      },
      "execution_count": 1,
      "outputs": []
    },
    {
      "cell_type": "code",
      "source": [
        "s = Sparrow()\n",
        "s.fly()\n",
        "\n",
        "p = Penguin()\n",
        "p.fly()\n"
      ],
      "metadata": {
        "colab": {
          "base_uri": "https://localhost:8080/"
        },
        "id": "S2RsS8FTveVA",
        "outputId": "971adc34-2350-4064-c1b3-5d1df0838951"
      },
      "execution_count": 5,
      "outputs": [
        {
          "output_type": "stream",
          "name": "stdout",
          "text": [
            "ok\n",
            "ok\n"
          ]
        }
      ]
    },
    {
      "cell_type": "markdown",
      "source": [
        "5. Write a program to demonstrate encapsulation by creating a class BankAccount with private attributes\n",
        "balance and methods to deposit, withdraw, and check balance."
      ],
      "metadata": {
        "id": "WurVjIYZwLbq"
      }
    },
    {
      "cell_type": "code",
      "source": [
        "class BankAccount:\n",
        "  def __init__(self,initial_balance=0):\n",
        "    self.__balance=initial_balance\n",
        "  def deposit(self,amount):\n",
        "    if amount>0:\n",
        "      self.__balance+=amount\n",
        "      print(\"Deposited:\",amount)\n",
        "    else:\n",
        "      print(\"Invalid deposit amount.\")\n",
        "  def withdraw(self,amount):\n",
        "    if 0<amount<=self.__balance:\n",
        "      self.__balance-=amount\n",
        "      print(\"Withdrew:\",amount)\n",
        "    else:\n",
        "      print(\"Insufficient funds or invalid withdrawal amount.\")\n",
        "  def check_balance(self):\n",
        "    print(\"Current balance:\",self.__balance)\n",
        "\n",
        "account = BankAccount(1000)\n",
        "account.deposit(500)\n",
        "account.withdraw(200)\n",
        "account.check_balance()\n",
        "account.withdraw(1500)\n",
        "account.deposit(-100)"
      ],
      "metadata": {
        "colab": {
          "base_uri": "https://localhost:8080/"
        },
        "id": "wYpVtdI0w4pm",
        "outputId": "a344f5f7-ff56-413f-9759-d04d011603f2"
      },
      "execution_count": 6,
      "outputs": [
        {
          "output_type": "stream",
          "name": "stdout",
          "text": [
            "Deposited: 500\n",
            "Withdrew: 200\n",
            "Current balance: 1300\n",
            "Insufficient funds or invalid withdrawal amount.\n",
            "Invalid deposit amount.\n"
          ]
        }
      ]
    },
    {
      "cell_type": "markdown",
      "source": [
        "6.  Demonstrate runtime polymorphism using a method play() in a base class Instrument. Derive classes Guitar\n",
        "and Piano that implement their own version of play()."
      ],
      "metadata": {
        "id": "IVXpJ_R7x389"
      }
    },
    {
      "cell_type": "code",
      "source": [
        "class Instrument:\n",
        "  def play(self):\n",
        "    print(\"Play\")\n",
        "class Guitar(Instrument):\n",
        "  def play(self):\n",
        "    print(\"Play guiter\")\n",
        "class Piano(Instrument):\n",
        "  def play(self):\n",
        "    print(\"play Piano\")"
      ],
      "metadata": {
        "id": "-CnLEGWlxz2G"
      },
      "execution_count": 11,
      "outputs": []
    },
    {
      "cell_type": "code",
      "source": [
        "instruments = [Guitar(), Piano(), Instrument()]\n",
        "\n",
        "for instrument in instruments:\n",
        "  instrument.play()\n"
      ],
      "metadata": {
        "colab": {
          "base_uri": "https://localhost:8080/"
        },
        "id": "nBAshB1mzOD1",
        "outputId": "3333456e-04cc-455a-dfe8-9d935d4588f8"
      },
      "execution_count": 12,
      "outputs": [
        {
          "output_type": "stream",
          "name": "stdout",
          "text": [
            "Play guiter\n",
            "play Piano\n",
            "Play\n"
          ]
        }
      ]
    },
    {
      "cell_type": "markdown",
      "source": [
        "7. Create a class MathOperations with a class method add_numbers() to add two numbers and a static\n",
        "method subtract_numbers() to subtract two numbers."
      ],
      "metadata": {
        "id": "YZvi3tPLzbqt"
      }
    },
    {
      "cell_type": "code",
      "source": [
        "class MathOperations:\n",
        "    @classmethod\n",
        "    def add_numbers(cls, x, y):\n",
        "        return x + y\n",
        "\n",
        "    @staticmethod\n",
        "    def subtract_numbers(x, y):\n",
        "        return x - y\n"
      ],
      "metadata": {
        "id": "Lz-zjl6VzQ32"
      },
      "execution_count": 13,
      "outputs": []
    },
    {
      "cell_type": "markdown",
      "source": [
        "8.  Implement a class Person with a class method to count the total number of persons created."
      ],
      "metadata": {
        "id": "kio6UTtd3l0G"
      }
    },
    {
      "cell_type": "code",
      "source": [
        "class Person:\n",
        "    count = 0\n",
        "\n",
        "    def __init__(self, name):\n",
        "        self.name = name\n",
        "        Person.count += 1\n",
        "\n",
        "    @classmethod\n",
        "    def get_person_count(cls):\n",
        "        return cls.count\n"
      ],
      "metadata": {
        "id": "GT5OTERE3jKg"
      },
      "execution_count": 23,
      "outputs": []
    },
    {
      "cell_type": "code",
      "source": [
        "p= Person(\"Shreya\")\n",
        "p= Person(\"Amiya\")\n",
        "p.get_person_count()"
      ],
      "metadata": {
        "colab": {
          "base_uri": "https://localhost:8080/"
        },
        "id": "_HcL4cCi3s3f",
        "outputId": "86cbbac7-b0cf-4528-cebf-4cd74838c23b"
      },
      "execution_count": 24,
      "outputs": [
        {
          "output_type": "execute_result",
          "data": {
            "text/plain": [
              "2"
            ]
          },
          "metadata": {},
          "execution_count": 24
        }
      ]
    },
    {
      "cell_type": "markdown",
      "source": [
        "9. Write a class Fraction with attributes numerator and denominator. Override the str method to display the\n",
        "fraction as \"numerator/denominator"
      ],
      "metadata": {
        "id": "_j8x5zMq4EP5"
      }
    },
    {
      "cell_type": "code",
      "source": [
        "class Fraction:\n",
        "    def __init__(self, numerator, denominator):\n",
        "        self.numerator = numerator\n",
        "        self.denominator = denominator\n",
        "\n",
        "    def __str__(self):\n",
        "        return f\"{self.numerator}/{self.denominator}\"\n"
      ],
      "metadata": {
        "id": "jf89kv0AFwXS"
      },
      "execution_count": 25,
      "outputs": []
    },
    {
      "cell_type": "markdown",
      "source": [
        "10.  Demonstrate operator overloading by creating a class Vector and overriding the add method to add two\n",
        "vectors."
      ],
      "metadata": {
        "id": "1BcZ_m18F6TD"
      }
    },
    {
      "cell_type": "code",
      "source": [
        "class Vector:\n",
        "    def __init__(self, x, y):\n",
        "        self.x = x\n",
        "        self.y = y\n",
        "\n",
        "    def __add__(self, other):\n",
        "        return Vector(self.x + other.x, self.y + other.y)\n",
        "\n",
        "    def __str__(self):\n",
        "        return f\"({self.x}, {self.y})\"\n",
        "\n",
        "v1 = Vector(1, 2)\n",
        "v2 = Vector(3, 4)\n",
        "v3 = v1 + v2\n",
        "print(v3)"
      ],
      "metadata": {
        "colab": {
          "base_uri": "https://localhost:8080/"
        },
        "id": "RDXHzdXmGAnJ",
        "outputId": "3c4ea7eb-5724-438f-e765-1b01e253aa85"
      },
      "execution_count": 26,
      "outputs": [
        {
          "output_type": "stream",
          "name": "stdout",
          "text": [
            "(4, 6)\n"
          ]
        }
      ]
    },
    {
      "cell_type": "markdown",
      "source": [
        "11. Create a class Person with attributes name and age. Add a method greet() that prints \"Hello, my name is\n",
        "{name} and I am {age} years old.\""
      ],
      "metadata": {
        "id": "dgQut9EqGE3W"
      }
    },
    {
      "cell_type": "code",
      "source": [
        "class Person:\n",
        "    def __init__(self, name, age):\n",
        "        self.name = name\n",
        "        self.age = age\n",
        "\n",
        "    def greet(self):\n",
        "        print(f\"Hello, my name is {self.name} and I am {self.age} years old.\")\n"
      ],
      "metadata": {
        "id": "BLvf0-vaGME-"
      },
      "execution_count": 27,
      "outputs": []
    },
    {
      "cell_type": "markdown",
      "source": [
        "12.  Implement a class Student with attributes name and grades. Create a method average_grade() to compute\n",
        "the average of the grades."
      ],
      "metadata": {
        "id": "MtVgI5OHGPqx"
      }
    },
    {
      "cell_type": "code",
      "source": [
        "class Student:\n",
        "    def __init__(self, name, grades):\n",
        "        self.name = name\n",
        "        self.grades = grades\n",
        "\n",
        "    def average_grade(self):\n",
        "        if not self.grades:\n",
        "            return 0\n",
        "        return sum(self.grades) / len(self.grades)\n"
      ],
      "metadata": {
        "id": "QUgg8EbKGM9C"
      },
      "execution_count": 28,
      "outputs": []
    },
    {
      "cell_type": "markdown",
      "source": [
        "13. Create a class Rectangle with methods set_dimensions() to set the dimensions and area() to calculate the\n",
        "area"
      ],
      "metadata": {
        "id": "2U90FmC_GWs_"
      }
    },
    {
      "cell_type": "code",
      "source": [
        "class Rectangle:\n",
        "    def __init__(self):\n",
        "        self.length = 0\n",
        "        self.width = 0\n",
        "\n",
        "    def set_dimensions(self, length, width):\n",
        "        self.length = length\n",
        "        self.width = width\n",
        "\n",
        "    def area(self):\n",
        "        return self.length * self.width\n"
      ],
      "metadata": {
        "id": "zzvtRpRaGUkK"
      },
      "execution_count": 29,
      "outputs": []
    },
    {
      "cell_type": "markdown",
      "source": [
        "14. Create a class Employee with a method calculate_salary() that computes the salary based on hours worked\n",
        "and hourly rate. Create a derived class Manager that adds a bonus to the salary."
      ],
      "metadata": {
        "id": "xYrfmbcXGiyU"
      }
    },
    {
      "cell_type": "code",
      "source": [
        "class Employee:\n",
        "    def __init__(self, hours_worked, hourly_rate):\n",
        "        self.hours_worked = hours_worked\n",
        "        self.hourly_rate = hourly_rate\n",
        "\n",
        "    def calculate_salary(self):\n",
        "        return self.hours_worked * self.hourly_rate\n",
        "\n",
        "class Manager(Employee):\n",
        "    def __init__(self, hours_worked, hourly_rate, bonus):\n",
        "        super().__init__(hours_worked, hourly_rate)\n",
        "        self.bonus = bonus\n",
        "\n",
        "    def calculate_salary(self):\n",
        "        return super().calculate_salary() + self.bonus"
      ],
      "metadata": {
        "id": "dnUaGI1gG6By"
      },
      "execution_count": 30,
      "outputs": []
    },
    {
      "cell_type": "markdown",
      "source": [
        "15. Create a class Product with attributes name, price, and quantity. Implement a method total_price() that\n",
        "calculates the total price of the product."
      ],
      "metadata": {
        "id": "Gm4sQR58G72P"
      }
    },
    {
      "cell_type": "code",
      "source": [
        "class Product:\n",
        "    def __init__(self, name, price, quantity):\n",
        "        self.name = name\n",
        "        self.price = price\n",
        "        self.quantity = quantity\n",
        "\n",
        "    def total_price(self):\n",
        "        return self.price * self.quantity"
      ],
      "metadata": {
        "id": "cDDF9pCwHI_m"
      },
      "execution_count": 31,
      "outputs": []
    },
    {
      "cell_type": "markdown",
      "source": [
        "16. Create a class Animal with an abstract method sound(). Create two derived classes Cow and Sheep that\n",
        "implement the sound() method."
      ],
      "metadata": {
        "id": "CcnW2EWCHMGl"
      }
    },
    {
      "cell_type": "code",
      "source": [
        "from abc import ABC, abstractmethod\n",
        "\n",
        "class Animal(ABC):\n",
        "    @abstractmethod\n",
        "    def sound(self):\n",
        "        pass\n",
        "\n",
        "class Cow(Animal):\n",
        "    def sound(self):\n",
        "        return \"Moo\"\n",
        "\n",
        "class Sheep(Animal):\n",
        "    def sound(self):\n",
        "        return \"Baa\"\n"
      ],
      "metadata": {
        "id": "TEezhZ9qHJbL"
      },
      "execution_count": null,
      "outputs": []
    },
    {
      "cell_type": "markdown",
      "source": [
        "17. Create a class Book with attributes title, author, and year_published. Add a method get_book_info() that\n",
        "returns a formatted string with the book's details."
      ],
      "metadata": {
        "id": "vIyDdzsWHXJ4"
      }
    },
    {
      "cell_type": "code",
      "source": [
        "class Book:\n",
        "    def __init__(self, title, author, year_published):\n",
        "        self.title = title\n",
        "        self.author = author\n",
        "        self.year_published = year_published\n",
        "\n",
        "    def get_book_info(self):\n",
        "        return f\"Title: {self.title}, Author: {self.author}, Year Published: {self.year_published}\""
      ],
      "metadata": {
        "id": "kNyG5_oYHf8M"
      },
      "execution_count": 32,
      "outputs": []
    },
    {
      "cell_type": "markdown",
      "source": [
        "18.  Create a class House with attributes address and price. Create a derived class Mansion that adds an\n",
        "attribute number_of_rooms."
      ],
      "metadata": {
        "id": "4O65xaB8HigV"
      }
    },
    {
      "cell_type": "code",
      "source": [
        "class House:\n",
        "    def __init__(self, address, price):\n",
        "        self.address = address\n",
        "        self.price = price\n",
        "\n",
        "class Mansion(House):\n",
        "    def __init__(self, address, price, number_of_rooms):\n",
        "        super().__init__(address, price)\n",
        "        self.number_of_rooms = number_of_rooms\n"
      ],
      "metadata": {
        "id": "lcxXi22bHgky"
      },
      "execution_count": 33,
      "outputs": []
    },
    {
      "cell_type": "code",
      "source": [],
      "metadata": {
        "id": "WeMGSX0CHmO6"
      },
      "execution_count": null,
      "outputs": []
    }
  ]
}